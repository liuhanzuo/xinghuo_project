{
  "nbformat": 4,
  "nbformat_minor": 0,
  "metadata": {
    "colab": {
      "provenance": [],
      "gpuType": "T4"
    },
    "kernelspec": {
      "name": "python3",
      "display_name": "Python 3"
    },
    "language_info": {
      "name": "python"
    },
    "accelerator": "GPU"
  },
  "cells": [
    {
      "cell_type": "code",
      "execution_count": null,
      "metadata": {
        "colab": {
          "base_uri": "https://localhost:8080/"
        },
        "id": "bQAVCciVle6G",
        "outputId": "d07c916c-ed67-4fd3-f879-be80d641d8c6"
      },
      "outputs": [
        {
          "output_type": "stream",
          "name": "stdout",
          "text": [
            "Wed Jul 10 03:26:38 2024       \n",
            "+---------------------------------------------------------------------------------------+\n",
            "| NVIDIA-SMI 535.104.05             Driver Version: 535.104.05   CUDA Version: 12.2     |\n",
            "|-----------------------------------------+----------------------+----------------------+\n",
            "| GPU  Name                 Persistence-M | Bus-Id        Disp.A | Volatile Uncorr. ECC |\n",
            "| Fan  Temp   Perf          Pwr:Usage/Cap |         Memory-Usage | GPU-Util  Compute M. |\n",
            "|                                         |                      |               MIG M. |\n",
            "|=========================================+======================+======================|\n",
            "|   0  Tesla T4                       Off | 00000000:00:04.0 Off |                    0 |\n",
            "| N/A   61C    P8              10W /  70W |      0MiB / 15360MiB |      0%      Default |\n",
            "|                                         |                      |                  N/A |\n",
            "+-----------------------------------------+----------------------+----------------------+\n",
            "                                                                                         \n",
            "+---------------------------------------------------------------------------------------+\n",
            "| Processes:                                                                            |\n",
            "|  GPU   GI   CI        PID   Type   Process name                            GPU Memory |\n",
            "|        ID   ID                                                             Usage      |\n",
            "|=======================================================================================|\n",
            "|  No running processes found                                                           |\n",
            "+---------------------------------------------------------------------------------------+\n"
          ]
        }
      ],
      "source": [
        "!nvidia-smi"
      ]
    },
    {
      "cell_type": "code",
      "source": [
        "%%writefile debubble.cu\n",
        "#include <cub/cub.cuh>\n",
        "\n",
        "\n",
        "void SORT(int* nums, size_t n, int* output) {\n",
        "    void* d_temp_storage = nullptr;\n",
        "    size_t temp_storage_bytes = 0;\n",
        "    cub::DeviceRadixSort::SortKeys(d_temp_storage, temp_storage_bytes, nums, output, n);\n",
        "    cudaMalloc(&d_temp_storage, temp_storage_bytes);\n",
        "    cub::DeviceRadixSort::SortKeys(d_temp_storage, temp_storage_bytes, nums, output, n);\n",
        "    cudaFree(d_temp_storage);\n",
        "}\n",
        "int findleft(int* a, int l, int r){\n",
        "  if(l == r){\n",
        "    return l;\n",
        "  }\n",
        "  int mid = (l + r) / 2;\n",
        "  if(a[mid] < 0){\n",
        "    return findleft(a, mid + 1, r);\n",
        "  }\n",
        "  return findleft(a, l, mid);\n",
        "}\n",
        "int findright(int* a, int l, int r){\n",
        "  if(l == r){\n",
        "    return l;\n",
        "  }\n",
        "  int mid = (l + r) / 2;\n",
        "  if(a[mid] <= 0){\n",
        "    return findright(a, mid + 1, r);\n",
        "  }\n",
        "  return findright(a, l, mid);\n",
        "}\n",
        "int main() {\n",
        "    int num_elements = 5;\n",
        "    int* keys = new int[num_elements];\n",
        "    int* sorted_keys = new int[num_elements];\n",
        "    for (int i = 0; i < num_elements; ++i) {\n",
        "        keys[i] = num_elements - i;\n",
        "    }\n",
        "    int* d_keys;\n",
        "    int* d_sorted_keys;\n",
        "    cudaMalloc(&d_keys, num_elements * sizeof(int));\n",
        "    cudaMalloc(&d_sorted_keys, num_elements * sizeof(int));\n",
        "    cudaMemcpy(d_keys, keys, num_elements * sizeof(int), cudaMemcpyHostToDevice);\n",
        "    SORT(d_keys, num_elements, d_sorted_keys);\n",
        "    cudaMemcpy(sorted_keys, d_sorted_keys, num_elements * sizeof(int), cudaMemcpyDeviceToHost);\n",
        "    for (int i = 0; i < num_elements; i++) {\n",
        "      std::cout << sorted_keys[i] << \" \";\n",
        "    }\n",
        "    int left = findleft(sorted_keys, 0 ,num_elements - 1);\n",
        "    int right = findright(sorted_keys, 0 ,num_elements - 1);\n",
        "    int* debubbled_keys = new int[num_elements];\n",
        "    std::cout<<left<<\" \"<<right<<std::endl;\n",
        "    int len = 0;\n",
        "    if(sorted_keys[0] <= 0 && sorted_keys[num_elements - 1] >= 0){\n",
        "      for(int i = 0;i < left; i++){\n",
        "        debubbled_keys[i] = sorted_keys[i];\n",
        "        len++;\n",
        "      }\n",
        "      for(int i = 0; i< num_elements - right; i++){\n",
        "        debubbled_keys[i + left] = sorted_keys[i + right];\n",
        "        len++;\n",
        "      }\n",
        "    }\n",
        "    else{\n",
        "      for(int i = 0;i < num_elements; i++){\n",
        "        debubbled_keys[i] = sorted_keys[i];\n",
        "        len++;\n",
        "      }\n",
        "    }\n",
        "    for(int i = 0; i < len; i++){\n",
        "      std::cout<<debubbled_keys[i]<<std::endl;\n",
        "    }\n",
        "    delete[] keys;\n",
        "    delete[] sorted_keys;\n",
        "    delete[] debubbled_keys;\n",
        "    return 0;\n",
        "}\n",
        "\n",
        "\n",
        "\n"
      ],
      "metadata": {
        "colab": {
          "base_uri": "https://localhost:8080/"
        },
        "id": "ijNrkH_AsHx6",
        "outputId": "bc2000fe-1528-4324-d9b1-2ff2ec9ba1aa"
      },
      "execution_count": 1,
      "outputs": [
        {
          "output_type": "stream",
          "name": "stdout",
          "text": [
            "Writing debubble.cu\n"
          ]
        }
      ]
    },
    {
      "cell_type": "code",
      "source": [
        "!nvcc -std=c++14 -arch=sm_75 debubble.cu -o debubble"
      ],
      "metadata": {
        "id": "HsICLYmrsKIK"
      },
      "execution_count": 2,
      "outputs": []
    },
    {
      "cell_type": "code",
      "source": [
        "!time ./debubble"
      ],
      "metadata": {
        "colab": {
          "base_uri": "https://localhost:8080/"
        },
        "id": "WiVPD1fbsLzg",
        "outputId": "f88232fc-06ae-437c-d94a-64e2424e2ec6"
      },
      "execution_count": 3,
      "outputs": [
        {
          "output_type": "stream",
          "name": "stdout",
          "text": [
            "1 2 3 4 5 0 0\n",
            "1\n",
            "2\n",
            "3\n",
            "4\n",
            "5\n",
            "\n",
            "real\t0m0.354s\n",
            "user\t0m0.023s\n",
            "sys\t0m0.234s\n"
          ]
        }
      ]
    },
    {
      "cell_type": "code",
      "source": [
        "%%writefile new_debubble.cu\n",
        "#include <cuda_runtime.h>\n",
        "#include <cub/cub.cuh>\n",
        "__global__ void merge(int* d_keys, int left, int mid, int right) {\n",
        "    int left_start = left;\n",
        "    int right_start = mid + 1;\n",
        "    int left_size = mid - left + 1;\n",
        "    int right_size = right - mid;\n",
        "    int* left_array = new int[left_size];\n",
        "    int* right_array = new int[right_size];\n",
        "    for (int i = 0; i < left_size; ++i) {\n",
        "        left_array[i] = d_keys[left_start + i];\n",
        "    }\n",
        "    for (int j = 0; j < right_size; ++j) {\n",
        "        right_array[j] = d_keys[right_start + j];\n",
        "    }\n",
        "    int i = 0;\n",
        "    int j = 0;\n",
        "    int k = left_start;\n",
        "    while (i < left_size && j < right_size) {\n",
        "        if (left_array[i] <= right_array[j]) {\n",
        "            d_keys[k] = left_array[i];\n",
        "            i++;\n",
        "        } else {\n",
        "            d_keys[k] = right_array[j];\n",
        "            j++;\n",
        "        }\n",
        "        k++;\n",
        "    }\n",
        "    while (i < left_size) {\n",
        "        d_keys[k] = left_array[i];\n",
        "        i++;\n",
        "        k++;\n",
        "    }\n",
        "    while (j < right_size) {\n",
        "        d_keys[k] = right_array[j];\n",
        "        j++;\n",
        "        k++;\n",
        "    }\n",
        "    delete[] left_array;\n",
        "    delete[] right_array;\n",
        "}\n",
        "void mergeSortHelper(int* arr, int l, int r) {\n",
        "    if (l < r) {\n",
        "        int m = l + (r - l) / 2;\n",
        "        mergeSortHelper(arr, l, m);\n",
        "        mergeSortHelper(arr, m + 1, r);\n",
        "        dim3 threadsPerBlock(32, 16);\n",
        "        dim3 blocksPerGrid((r - l + 1) / 256 + 1, 1);\n",
        "        merge<<<blocksPerGrid, threadsPerBlock>>>(arr, l, m, r); // Launch the merge kernel\n",
        "    }\n",
        "}\n",
        "int findleft(int* a, int l, int r){\n",
        "  if(l == r){\n",
        "    return l;\n",
        "  }\n",
        "  int mid = (l + r) / 2;\n",
        "  if(a[mid] < 0){\n",
        "    return findleft(a, mid + 1, r);\n",
        "  }\n",
        "  return findleft(a, l, mid);\n",
        "}\n",
        "int findright(int* a, int l, int r){\n",
        "  if(l == r){\n",
        "    return l;\n",
        "  }\n",
        "  int mid = (l + r) / 2;\n",
        "  if(a[mid] <= 0){\n",
        "    return findright(a, mid + 1, r);\n",
        "  }\n",
        "  return findright(a, l, mid);\n",
        "}\n",
        "int main() {\n",
        "    int num_elements = 6;\n",
        "    int* h_keys = new int[num_elements];\n",
        "    int* d_keys;\n",
        "    for (int i = 0; i < num_elements; ++i) {\n",
        "        h_keys[i] = num_elements - 2*i;\n",
        "    }\n",
        "    cudaMalloc((void**)&d_keys, num_elements * sizeof(int));\n",
        "    cudaMemcpy(d_keys, h_keys, num_elements * sizeof(int), cudaMemcpyHostToDevice);\n",
        "    mergeSortHelper(d_keys, 0, num_elements - 1);\n",
        "    cudaMemcpy(h_keys, d_keys, num_elements * sizeof(int), cudaMemcpyDeviceToHost);\n",
        "    for(int i = 0; i < num_elements; i++){\n",
        "      std::cout<<h_keys[i]<<\" \";\n",
        "    }\n",
        "    int left = findleft(h_keys, 0 ,num_elements - 1);\n",
        "    int right = findright(h_keys, 0 ,num_elements - 1);\n",
        "    int* debubbled_keys = new int[num_elements];\n",
        "    std::cout<<left<<\" \"<<right<<std::endl;\n",
        "    int len = 0;\n",
        "    if(h_keys[0] <= 0 && h_keys[num_elements - 1] >= 0){\n",
        "      for(int i = 0;i < left; i++){\n",
        "        debubbled_keys[i] = h_keys[i];\n",
        "        len++;\n",
        "      }\n",
        "      for(int i = 0; i< num_elements - right; i++){\n",
        "        debubbled_keys[i + left] = h_keys[i + right];\n",
        "        len++;\n",
        "      }\n",
        "    }\n",
        "    else{\n",
        "      for(int i = 0;i < num_elements; i++){\n",
        "        debubbled_keys[i] = h_keys[i];\n",
        "        len++;\n",
        "      }\n",
        "    }\n",
        "    for(int i = 0; i < len; i++){\n",
        "      std::cout<<debubbled_keys[i]<<\" \";\n",
        "    }\n",
        "    return 0;\n",
        "}"
      ],
      "metadata": {
        "colab": {
          "base_uri": "https://localhost:8080/"
        },
        "id": "UEmMvE3Sljse",
        "outputId": "00358101-4f18-4b81-9b4b-5fea011120ce"
      },
      "execution_count": 4,
      "outputs": [
        {
          "output_type": "stream",
          "name": "stdout",
          "text": [
            "Writing new_debubble.cu\n"
          ]
        }
      ]
    },
    {
      "cell_type": "code",
      "source": [
        "!nvcc -std=c++14 -arch=sm_75 new_debubble.cu -o new_debubble"
      ],
      "metadata": {
        "id": "7We-2SWprPbW"
      },
      "execution_count": 5,
      "outputs": []
    },
    {
      "cell_type": "code",
      "source": [
        "!time ./new_debubble"
      ],
      "metadata": {
        "colab": {
          "base_uri": "https://localhost:8080/"
        },
        "id": "2eZBs0EirP0Q",
        "outputId": "ad9c213e-c00a-40f6-a87c-fd4a07861d41"
      },
      "execution_count": 6,
      "outputs": [
        {
          "output_type": "stream",
          "name": "stdout",
          "text": [
            "-4 -2 0 2 4 6 2 3\n",
            "-4 -2 2 4 6 \n",
            "real\t0m0.242s\n",
            "user\t0m0.021s\n",
            "sys\t0m0.213s\n"
          ]
        }
      ]
    }
  ]
}