{
  "cells": [
    {
      "cell_type": "code",
      "execution_count": 1,
      "metadata": {
        "colab": {
          "base_uri": "https://localhost:8080/"
        },
        "id": "vrtVwQNGsUrP",
        "outputId": "09a7b673-6e5d-4e2c-ab2e-52f03b6f3858"
      },
      "outputs": [
        {
          "output_type": "stream",
          "name": "stdout",
          "text": [
            "Tue Jul  9 12:30:57 2024       \n",
            "+---------------------------------------------------------------------------------------+\n",
            "| NVIDIA-SMI 535.104.05             Driver Version: 535.104.05   CUDA Version: 12.2     |\n",
            "|-----------------------------------------+----------------------+----------------------+\n",
            "| GPU  Name                 Persistence-M | Bus-Id        Disp.A | Volatile Uncorr. ECC |\n",
            "| Fan  Temp   Perf          Pwr:Usage/Cap |         Memory-Usage | GPU-Util  Compute M. |\n",
            "|                                         |                      |               MIG M. |\n",
            "|=========================================+======================+======================|\n",
            "|   0  Tesla T4                       Off | 00000000:00:04.0 Off |                    0 |\n",
            "| N/A   47C    P8              10W /  70W |      0MiB / 15360MiB |      0%      Default |\n",
            "|                                         |                      |                  N/A |\n",
            "+-----------------------------------------+----------------------+----------------------+\n",
            "                                                                                         \n",
            "+---------------------------------------------------------------------------------------+\n",
            "| Processes:                                                                            |\n",
            "|  GPU   GI   CI        PID   Type   Process name                            GPU Memory |\n",
            "|        ID   ID                                                             Usage      |\n",
            "|=======================================================================================|\n",
            "|  No running processes found                                                           |\n",
            "+---------------------------------------------------------------------------------------+\n"
          ]
        }
      ],
      "source": [
        " !nvidia-smi"
      ]
    },
    {
      "cell_type": "code",
      "execution_count": 22,
      "metadata": {
        "colab": {
          "base_uri": "https://localhost:8080/"
        },
        "id": "i2iGsMzHsubr",
        "outputId": "f35ab4d9-29c3-417a-be71-6a9a3eff9812"
      },
      "outputs": [
        {
          "output_type": "stream",
          "name": "stdout",
          "text": [
            "Overwriting debubble.cu\n"
          ]
        }
      ],
      "source": [
        "%%writefile debubble.cu\n",
        "#include <cub/cub.cuh>\n",
        "\n",
        "\n",
        "void SORT(int* nums, size_t n, int* output) {\n",
        "    void* d_temp_storage = nullptr;\n",
        "    size_t temp_storage_bytes = 0;\n",
        "    cub::DeviceRadixSort::SortKeys(d_temp_storage, temp_storage_bytes, nums, output, n);\n",
        "    cudaMalloc(&d_temp_storage, temp_storage_bytes);\n",
        "    cub::DeviceRadixSort::SortKeys(d_temp_storage, temp_storage_bytes, nums, output, n);\n",
        "    cudaFree(d_temp_storage);\n",
        "}\n",
        "int findleft(int* a, int l, int r){\n",
        "  if(l == r){\n",
        "    return l;\n",
        "  }\n",
        "  int mid = (l + r) / 2;\n",
        "  if(a[mid] < 0){\n",
        "    return findleft(a, mid + 1, r);\n",
        "  }\n",
        "  return findleft(a, l, mid);\n",
        "}\n",
        "int findright(int* a, int l, int r){\n",
        "  if(l == r){\n",
        "    return l;\n",
        "  }\n",
        "  int mid = (l + r) / 2;\n",
        "  if(a[mid] <= 0){\n",
        "    return findright(a, mid + 1, r);\n",
        "  }\n",
        "  return findright(a, l, mid);\n",
        "}\n",
        "int main() {\n",
        "    int num_elements = 5;\n",
        "    int* keys = new int[num_elements];\n",
        "    int* sorted_keys = new int[num_elements];\n",
        "    for (int i = 0; i < num_elements; ++i) {\n",
        "        keys[i] = num_elements - i;\n",
        "    }\n",
        "    int* d_keys;\n",
        "    int* d_sorted_keys;\n",
        "    cudaMalloc(&d_keys, num_elements * sizeof(int));\n",
        "    cudaMalloc(&d_sorted_keys, num_elements * sizeof(int));\n",
        "    cudaMemcpy(d_keys, keys, num_elements * sizeof(int), cudaMemcpyHostToDevice);\n",
        "    SORT(d_keys, num_elements, d_sorted_keys);\n",
        "    cudaMemcpy(sorted_keys, d_sorted_keys, num_elements * sizeof(int), cudaMemcpyDeviceToHost);\n",
        "    for (int i = 0; i < num_elements; i++) {\n",
        "      std::cout << sorted_keys[i] << \" \";\n",
        "    }\n",
        "    int left = findleft(sorted_keys, 0 ,num_elements - 1);\n",
        "    int right = findright(sorted_keys, 0 ,num_elements - 1);\n",
        "    int* debubbled_keys = new int[num_elements];\n",
        "    std::cout<<left<<\" \"<<right<<std::endl;\n",
        "    int len = 0;\n",
        "    if(sorted_keys[0] <= 0 && sorted_keys[num_elements - 1] >= 0){\n",
        "      for(int i = 0;i < left; i++){\n",
        "        debubbled_keys[i] = sorted_keys[i];\n",
        "        len++;\n",
        "      }\n",
        "      for(int i = 0; i< num_elements - right; i++){\n",
        "        debubbled_keys[i + left] = sorted_keys[i + right];\n",
        "        len++;\n",
        "      }\n",
        "    }\n",
        "    else{\n",
        "      for(int i = 0;i < num_elements; i++){\n",
        "        debubbled_keys[i] = sorted_keys[i];\n",
        "        len++;\n",
        "      }\n",
        "    }\n",
        "    for(int i = 0; i < len; i++){\n",
        "      std::cout<<debubbled_keys[i]<<std::endl;\n",
        "    }\n",
        "    delete[] keys;\n",
        "    delete[] sorted_keys;\n",
        "    delete[] debubbled_keys;\n",
        "    return 0;\n",
        "}\n",
        "\n",
        "\n",
        "\n"
      ]
    },
    {
      "cell_type": "code",
      "execution_count": 25,
      "metadata": {
        "id": "vD-Af02MtBto"
      },
      "outputs": [],
      "source": [
        "!nvcc -std=c++14 -arch=sm_75 debubble.cu -o debubble"
      ]
    },
    {
      "cell_type": "code",
      "source": [
        "!time ./debubble"
      ],
      "metadata": {
        "colab": {
          "base_uri": "https://localhost:8080/"
        },
        "id": "M6Q_Af_CjKix",
        "outputId": "cfcd3752-0f4c-436f-cfe5-aa7c998acaeb"
      },
      "execution_count": 26,
      "outputs": [
        {
          "output_type": "stream",
          "name": "stdout",
          "text": [
            "1 2 3 4 5 0 0\n",
            "1\n",
            "2\n",
            "3\n",
            "4\n",
            "5\n",
            "\n",
            "real\t0m0.132s\n",
            "user\t0m0.008s\n",
            "sys\t0m0.117s\n"
          ]
        }
      ]
    }
  ],
  "metadata": {
    "colab": {
      "gpuType": "T4",
      "provenance": []
    },
    "kernelspec": {
      "display_name": "Python 3",
      "name": "python3"
    },
    "language_info": {
      "name": "python"
    },
    "accelerator": "GPU"
  },
  "nbformat": 4,
  "nbformat_minor": 0
}