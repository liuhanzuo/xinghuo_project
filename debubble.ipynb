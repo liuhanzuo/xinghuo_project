{
  "cells": [
    {
      "cell_type": "code",
      "execution_count": null,
      "metadata": {
        "colab": {
          "base_uri": "https://localhost:8080/"
        },
        "id": "vrtVwQNGsUrP",
        "outputId": "09a7b673-6e5d-4e2c-ab2e-52f03b6f3858"
      },
      "outputs": [
        {
          "name": "stdout",
          "output_type": "stream",
          "text": [
            "Tue Jul  9 12:30:57 2024       \n",
            "+---------------------------------------------------------------------------------------+\n",
            "| NVIDIA-SMI 535.104.05             Driver Version: 535.104.05   CUDA Version: 12.2     |\n",
            "|-----------------------------------------+----------------------+----------------------+\n",
            "| GPU  Name                 Persistence-M | Bus-Id        Disp.A | Volatile Uncorr. ECC |\n",
            "| Fan  Temp   Perf          Pwr:Usage/Cap |         Memory-Usage | GPU-Util  Compute M. |\n",
            "|                                         |                      |               MIG M. |\n",
            "|=========================================+======================+======================|\n",
            "|   0  Tesla T4                       Off | 00000000:00:04.0 Off |                    0 |\n",
            "| N/A   47C    P8              10W /  70W |      0MiB / 15360MiB |      0%      Default |\n",
            "|                                         |                      |                  N/A |\n",
            "+-----------------------------------------+----------------------+----------------------+\n",
            "                                                                                         \n",
            "+---------------------------------------------------------------------------------------+\n",
            "| Processes:                                                                            |\n",
            "|  GPU   GI   CI        PID   Type   Process name                            GPU Memory |\n",
            "|        ID   ID                                                             Usage      |\n",
            "|=======================================================================================|\n",
            "|  No running processes found                                                           |\n",
            "+---------------------------------------------------------------------------------------+\n"
          ]
        }
      ],
      "source": [
        " !nvidia-smi"
      ]
    },
    {
      "cell_type": "code",
      "execution_count": null,
      "metadata": {
        "colab": {
          "base_uri": "https://localhost:8080/"
        },
        "id": "i2iGsMzHsubr",
        "outputId": "f35ab4d9-29c3-417a-be71-6a9a3eff9812"
      },
      "outputs": [
        {
          "name": "stdout",
          "output_type": "stream",
          "text": [
            "Overwriting debubble.cu\n"
          ]
        }
      ],
      "source": [
        "%%writefile debubble.cu\n",
        "#include <cub/cub.cuh>\n",
        "\n",
        "\n",
        "void SORT(int* nums, size_t n, int* output) {\n",
        "    void* d_temp_storage = nullptr;\n",
        "    size_t temp_storage_bytes = 0;\n",
        "    cub::DeviceRadixSort::SortKeys(d_temp_storage, temp_storage_bytes, nums, output, n);\n",
        "    cudaMalloc(&d_temp_storage, temp_storage_bytes);\n",
        "    cub::DeviceRadixSort::SortKeys(d_temp_storage, temp_storage_bytes, nums, output, n);\n",
        "    cudaFree(d_temp_storage);\n",
        "}\n",
        "int findleft(int* a, int l, int r){\n",
        "  if(l == r){\n",
        "    return l;\n",
        "  }\n",
        "  int mid = (l + r) / 2;\n",
        "  if(a[mid] < 0){\n",
        "    return findleft(a, mid + 1, r);\n",
        "  }\n",
        "  return findleft(a, l, mid);\n",
        "}\n",
        "int findright(int* a, int l, int r){\n",
        "  if(l == r){\n",
        "    return l;\n",
        "  }\n",
        "  int mid = (l + r) / 2;\n",
        "  if(a[mid] <= 0){\n",
        "    return findright(a, mid + 1, r);\n",
        "  }\n",
        "  return findright(a, l, mid);\n",
        "}\n",
        "int main() {\n",
        "    int num_elements = 5;\n",
        "    int* keys = new int[num_elements];\n",
        "    int* sorted_keys = new int[num_elements];\n",
        "    for (int i = 0; i < num_elements; ++i) {\n",
        "        keys[i] = num_elements - i;\n",
        "    }\n",
        "    int* d_keys;\n",
        "    int* d_sorted_keys;\n",
        "    cudaMalloc(&d_keys, num_elements * sizeof(int));\n",
        "    cudaMalloc(&d_sorted_keys, num_elements * sizeof(int));\n",
        "    cudaMemcpy(d_keys, keys, num_elements * sizeof(int), cudaMemcpyHostToDevice);\n",
        "    SORT(d_keys, num_elements, d_sorted_keys);\n",
        "    cudaMemcpy(sorted_keys, d_sorted_keys, num_elements * sizeof(int), cudaMemcpyDeviceToHost);\n",
        "    for (int i = 0; i < num_elements; i++) {\n",
        "      std::cout << sorted_keys[i] << \" \";\n",
        "    }\n",
        "    int left = findleft(sorted_keys, 0 ,num_elements - 1);\n",
        "    int right = findright(sorted_keys, 0 ,num_elements - 1);\n",
        "    int* debubbled_keys = new int[num_elements];\n",
        "    std::cout<<left<<\" \"<<right<<std::endl;\n",
        "    int len = 0;\n",
        "    if(sorted_keys[0] <= 0 && sorted_keys[num_elements - 1] >= 0){\n",
        "      for(int i = 0;i < left; i++){\n",
        "        debubbled_keys[i] = sorted_keys[i];\n",
        "        len++;\n",
        "      }\n",
        "      for(int i = 0; i< num_elements - right; i++){\n",
        "        debubbled_keys[i + left] = sorted_keys[i + right];\n",
        "        len++;\n",
        "      }\n",
        "    }\n",
        "    else{\n",
        "      for(int i = 0;i < num_elements; i++){\n",
        "        debubbled_keys[i] = sorted_keys[i];\n",
        "        len++;\n",
        "      }\n",
        "    }\n",
        "    for(int i = 0; i < len; i++){\n",
        "      std::cout<<debubbled_keys[i]<<std::endl;\n",
        "    }\n",
        "    delete[] keys;\n",
        "    delete[] sorted_keys;\n",
        "    delete[] debubbled_keys;\n",
        "    return 0;\n",
        "}\n",
        "\n",
        "\n",
        "\n"
      ]
    },
    {
      "cell_type": "code",
      "execution_count": null,
      "metadata": {
        "colab": {
          "background_save": true
        },
        "id": "vD-Af02MtBto"
      },
      "outputs": [],
      "source": [
        "!nvcc -std=c++14 -arch=sm_75 debubble.cu -o debubble"
      ]
    },
    {
      "cell_type": "code",
      "execution_count": null,
      "metadata": {
        "colab": {
          "background_save": true
        },
        "id": "M6Q_Af_CjKix",
        "outputId": "11cf9bbc-18b1-4dd0-9e82-3674ec8df22b"
      },
      "outputs": [
        {
          "name": "stdout",
          "output_type": "stream",
          "text": [
            "1 2 3 4 5 0 0\n",
            "1\n",
            "2\n",
            "3\n",
            "4\n",
            "5\n",
            "\n",
            "real\t0m0.147s\n",
            "user\t0m0.015s\n",
            "sys\t0m0.124s\n"
          ]
        }
      ],
      "source": [
        "!time ./debubble"
      ]
    },
    {
      "cell_type": "code",
      "source": [
        "%%writefile new_debubble.cu\n",
        "#include <cuda_runtime.h>\n",
        "#include <cub/cub.cuh>\n",
        "__global__ void merge(int* d_keys, int left, int mid, int right) {\n",
        "    int left_start = left;\n",
        "    int right_start = mid + 1;\n",
        "    int left_size = mid - left + 1;\n",
        "    int right_size = right - mid;\n",
        "    int* left_array = new int[left_size];\n",
        "    int* right_array = new int[right_size];\n",
        "    for (int i = 0; i < left_size; ++i) {\n",
        "        left_array[i] = d_keys[left_start + i];\n",
        "    }\n",
        "    for (int j = 0; j < right_size; ++j) {\n",
        "        right_array[j] = d_keys[right_start + j];\n",
        "    }\n",
        "    int i = 0;\n",
        "    int j = 0;\n",
        "    int k = left_start;\n",
        "    while (i < left_size && j < right_size) {\n",
        "        if (left_array[i] <= right_array[j]) {\n",
        "            d_keys[k] = left_array[i];\n",
        "            i++;\n",
        "        } else {\n",
        "            d_keys[k] = right_array[j];\n",
        "            j++;\n",
        "        }\n",
        "        k++;\n",
        "    }\n",
        "    while (i < left_size) {\n",
        "        d_keys[k] = left_array[i];\n",
        "        i++;\n",
        "        k++;\n",
        "    }\n",
        "    while (j < right_size) {\n",
        "        d_keys[k] = right_array[j];\n",
        "        j++;\n",
        "        k++;\n",
        "    }\n",
        "    delete[] left_array;\n",
        "    delete[] right_array;\n",
        "}\n",
        "void mergeSortHelper(int* arr, int l, int r) {\n",
        "    if (l < r) {\n",
        "        int m = l + (r - l) / 2;\n",
        "        mergeSortHelper(arr, l, m);\n",
        "        mergeSortHelper(arr, m + 1, r);\n",
        "        merge<<<1, 1>>>(arr, l, m, r);\n",
        "    }\n",
        "}\n",
        "int findleft(int* a, int l, int r){\n",
        "  if(l == r){\n",
        "    return l;\n",
        "  }\n",
        "  int mid = (l + r) / 2;\n",
        "  if(a[mid] < 0){\n",
        "    return findleft(a, mid + 1, r);\n",
        "  }\n",
        "  return findleft(a, l, mid);\n",
        "}\n",
        "int findright(int* a, int l, int r){\n",
        "  if(l == r){\n",
        "    return l;\n",
        "  }\n",
        "  int mid = (l + r) / 2;\n",
        "  if(a[mid] <= 0){\n",
        "    return findright(a, mid + 1, r);\n",
        "  }\n",
        "  return findright(a, l, mid);\n",
        "}\n",
        "int main() {\n",
        "    int num_elements = 6;\n",
        "    int* h_keys = new int[num_elements];\n",
        "    int* d_keys;\n",
        "    for (int i = 0; i < num_elements; ++i) {\n",
        "        h_keys[i] = num_elements - 2*i;\n",
        "    }\n",
        "    cudaMalloc((void**)&d_keys, num_elements * sizeof(int));\n",
        "    cudaMemcpy(d_keys, h_keys, num_elements * sizeof(int), cudaMemcpyHostToDevice);\n",
        "    mergeSortHelper(d_keys, 0, num_elements - 1);\n",
        "    cudaMemcpy(h_keys, d_keys, num_elements * sizeof(int), cudaMemcpyDeviceToHost);\n",
        "    for(int i = 0; i < num_elements; i++){\n",
        "      std::cout<<h_keys[i]<<\" \";\n",
        "    }\n",
        "    int left = findleft(h_keys, 0 ,num_elements - 1);\n",
        "    int right = findright(h_keys, 0 ,num_elements - 1);\n",
        "    int* debubbled_keys = new int[num_elements];\n",
        "    std::cout<<left<<\" \"<<right<<std::endl;\n",
        "    int len = 0;\n",
        "    if(h_keys[0] <= 0 && h_keys[num_elements - 1] >= 0){\n",
        "      for(int i = 0;i < left; i++){\n",
        "        debubbled_keys[i] = h_keys[i];\n",
        "        len++;\n",
        "      }\n",
        "      for(int i = 0; i< num_elements - right; i++){\n",
        "        debubbled_keys[i + left] = h_keys[i + right];\n",
        "        len++;\n",
        "      }\n",
        "    }\n",
        "    else{\n",
        "      for(int i = 0;i < num_elements; i++){\n",
        "        debubbled_keys[i] = h_keys[i];\n",
        "        len++;\n",
        "      }\n",
        "    }\n",
        "    for(int i = 0; i < len; i++){\n",
        "      std::cout<<debubbled_keys[i]<<\" \";\n",
        "    }\n",
        "    return 0;\n",
        "}"
      ],
      "metadata": {
        "colab": {
          "base_uri": "https://localhost:8080/"
        },
        "id": "qGml9Vjm814r",
        "outputId": "6727ec4e-20ae-468e-8e71-68d6830f6447"
      },
      "execution_count": 14,
      "outputs": [
        {
          "output_type": "stream",
          "name": "stdout",
          "text": [
            "Overwriting new_debubble.cu\n"
          ]
        }
      ]
    },
    {
      "cell_type": "code",
      "source": [
        "!nvcc -std=c++14 -arch=sm_75 new_debubble.cu -o new_debubble"
      ],
      "metadata": {
        "id": "jUi6rjQw9QIt"
      },
      "execution_count": 15,
      "outputs": []
    },
    {
      "cell_type": "code",
      "source": [
        "!time ./new_debubble"
      ],
      "metadata": {
        "colab": {
          "base_uri": "https://localhost:8080/"
        },
        "id": "miM4hg_X9Rpi",
        "outputId": "8c4f708e-ce61-4786-aae5-fcab9bb75f53"
      },
      "execution_count": 16,
      "outputs": [
        {
          "output_type": "stream",
          "name": "stdout",
          "text": [
            "-4 -2 0 2 4 6 2 3\n",
            "-4 -2 2 4 6 \n",
            "real\t0m0.237s\n",
            "user\t0m0.013s\n",
            "sys\t0m0.217s\n"
          ]
        }
      ]
    }
  ],
  "metadata": {
    "accelerator": "GPU",
    "colab": {
      "gpuType": "T4",
      "provenance": []
    },
    "kernelspec": {
      "display_name": "Python 3",
      "name": "python3"
    },
    "language_info": {
      "name": "python"
    }
  },
  "nbformat": 4,
  "nbformat_minor": 0
}