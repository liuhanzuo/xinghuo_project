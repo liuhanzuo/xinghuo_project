{
  "nbformat": 4,
  "nbformat_minor": 0,
  "metadata": {
    "colab": {
      "provenance": [],
      "gpuType": "T4",
      "toc_visible": true
    },
    "kernelspec": {
      "name": "python3",
      "display_name": "Python 3"
    },
    "language_info": {
      "name": "python"
    },
    "accelerator": "GPU"
  },
  "cells": [
    {
      "cell_type": "code",
      "source": [
        "!which nvcc"
      ],
      "metadata": {
        "colab": {
          "base_uri": "https://localhost:8080/"
        },
        "id": "L4pj0_idA_1L",
        "outputId": "f90033c3-db8f-418d-efd3-ba043676763f"
      },
      "execution_count": 1,
      "outputs": [
        {
          "output_type": "stream",
          "name": "stdout",
          "text": [
            "/usr/local/cuda/bin/nvcc\n"
          ]
        }
      ]
    },
    {
      "cell_type": "code",
      "source": [
        "!nvidia-smi"
      ],
      "metadata": {
        "colab": {
          "base_uri": "https://localhost:8080/"
        },
        "id": "dNY7yIr0Bb37",
        "outputId": "4f0050a4-5717-4fde-df59-76fb05ed9b9d"
      },
      "execution_count": 2,
      "outputs": [
        {
          "output_type": "stream",
          "name": "stdout",
          "text": [
            "Fri Jul  5 14:07:27 2024       \n",
            "+---------------------------------------------------------------------------------------+\n",
            "| NVIDIA-SMI 535.104.05             Driver Version: 535.104.05   CUDA Version: 12.2     |\n",
            "|-----------------------------------------+----------------------+----------------------+\n",
            "| GPU  Name                 Persistence-M | Bus-Id        Disp.A | Volatile Uncorr. ECC |\n",
            "| Fan  Temp   Perf          Pwr:Usage/Cap |         Memory-Usage | GPU-Util  Compute M. |\n",
            "|                                         |                      |               MIG M. |\n",
            "|=========================================+======================+======================|\n",
            "|   0  Tesla T4                       Off | 00000000:00:04.0 Off |                    0 |\n",
            "| N/A   57C    P8               9W /  70W |      0MiB / 15360MiB |      0%      Default |\n",
            "|                                         |                      |                  N/A |\n",
            "+-----------------------------------------+----------------------+----------------------+\n",
            "                                                                                         \n",
            "+---------------------------------------------------------------------------------------+\n",
            "| Processes:                                                                            |\n",
            "|  GPU   GI   CI        PID   Type   Process name                            GPU Memory |\n",
            "|        ID   ID                                                             Usage      |\n",
            "|=======================================================================================|\n",
            "|  No running processes found                                                           |\n",
            "+---------------------------------------------------------------------------------------+\n"
          ]
        }
      ]
    },
    {
      "cell_type": "markdown",
      "source": [
        "# 新段落"
      ],
      "metadata": {
        "id": "yna1lHeq0DP_"
      }
    },
    {
      "cell_type": "code",
      "source": [
        "!nvidia-smi"
      ],
      "metadata": {
        "colab": {
          "base_uri": "https://localhost:8080/"
        },
        "id": "flCBoWgMBgVu",
        "outputId": "ad51e5cd-1b0f-4a1c-8ea1-1496ab39ff0e"
      },
      "execution_count": 3,
      "outputs": [
        {
          "output_type": "stream",
          "name": "stdout",
          "text": [
            "Fri Jul  5 14:07:29 2024       \n",
            "+---------------------------------------------------------------------------------------+\n",
            "| NVIDIA-SMI 535.104.05             Driver Version: 535.104.05   CUDA Version: 12.2     |\n",
            "|-----------------------------------------+----------------------+----------------------+\n",
            "| GPU  Name                 Persistence-M | Bus-Id        Disp.A | Volatile Uncorr. ECC |\n",
            "| Fan  Temp   Perf          Pwr:Usage/Cap |         Memory-Usage | GPU-Util  Compute M. |\n",
            "|                                         |                      |               MIG M. |\n",
            "|=========================================+======================+======================|\n",
            "|   0  Tesla T4                       Off | 00000000:00:04.0 Off |                    0 |\n",
            "| N/A   56C    P8               9W /  70W |      0MiB / 15360MiB |      0%      Default |\n",
            "|                                         |                      |                  N/A |\n",
            "+-----------------------------------------+----------------------+----------------------+\n",
            "                                                                                         \n",
            "+---------------------------------------------------------------------------------------+\n",
            "| Processes:                                                                            |\n",
            "|  GPU   GI   CI        PID   Type   Process name                            GPU Memory |\n",
            "|        ID   ID                                                             Usage      |\n",
            "|=======================================================================================|\n",
            "|  No running processes found                                                           |\n",
            "+---------------------------------------------------------------------------------------+\n"
          ]
        }
      ]
    },
    {
      "cell_type": "code",
      "source": [
        "%%writefile matmul.cu\n",
        "#include <iostream>\n",
        "#include <vector>\n",
        "#include <cuda_runtime.h>\n",
        "\n",
        "// CUDA kernel function for summing multiple vectors\n",
        "__global__ void matmul(const float* A, const float* B, size_t m, size_t k, size_t n, float* output) {\n",
        "    // blockIdx.y: row number of block\n",
        "    // blockDim.y: thread number of each block in column direction\n",
        "    // threadIdx.y: di ji ge thread in block\n",
        "    int row = blockIdx.y * blockDim.y + threadIdx.y;\n",
        "    int col = blockIdx.x * blockDim.x + threadIdx.x;\n",
        "    float sum = 0.0f;\n",
        "    // here we calculate output[row][col], sum A[row][i]*B[i][col]\n",
        "    for(int i = 0;i < k; i++){\n",
        "      sum += A[row * k + i] * B[i * n + col];\n",
        "    }\n",
        "    output[row * n + col] = sum;\n",
        "}\n",
        "\n",
        "int main() {\n",
        "    size_t m = 1024;\n",
        "    size_t n = 1024;\n",
        "    size_t k = 1024;\n",
        "    std::vector<float> A(m * k);\n",
        "    std::vector<float> B(k * n);\n",
        "    std::vector<float> C(m * n);\n",
        "    for (size_t i = 0; i < m * k; i++) {\n",
        "      A[i] = static_cast<float>(i);\n",
        "    }\n",
        "    for (size_t i = 0; i < k * n; i++) {\n",
        "      B[i] = static_cast<float>(i);\n",
        "    }\n",
        "    float* d_A;\n",
        "    float* d_B;\n",
        "    float* d_C;\n",
        "    cudaMalloc(&d_A, m * k * sizeof(float));\n",
        "    cudaMalloc(&d_B, k * n * sizeof(float));\n",
        "    cudaMalloc(&d_C, m * n * sizeof(float));\n",
        "    cudaMemcpy(d_A, A.data(), m * k * sizeof(float), cudaMemcpyHostToDevice);\n",
        "    cudaMemcpy(d_B, B.data(), k * n * sizeof(float), cudaMemcpyHostToDevice);\n",
        "    //every block has thread shape like 16*16\n",
        "    dim3 threadsPerBlock(16, 16);\n",
        "    //how many blocks are needed to cover the whole matrix\n",
        "    dim3 blocksPerGrid((n + threadsPerBlock.x - 1) / threadsPerBlock.x,\n",
        "                       (m + threadsPerBlock.y - 1) / threadsPerBlock.y);\n",
        "    matmul<<<blocksPerGrid, threadsPerBlock>>>(d_A, d_B, m, n, k, d_C);\n",
        "    cudaMemcpy(C.data(), d_C, m * n * sizeof(float), cudaMemcpyDeviceToHost);\n",
        "//for (size_t i = 0; i < m * k; i++) {\n",
        "//    //std::cout<<i<<std::endl;\n",
        "//    std::cout<<C[i]<<std::endl;\n",
        "//}\n",
        "    std::cout << \"Success!\" << std::endl;\n",
        "    cudaFree(d_A);\n",
        "    cudaFree(d_B);\n",
        "    cudaFree(d_C);\n",
        "    return 0;\n",
        "}\n"
      ],
      "metadata": {
        "colab": {
          "base_uri": "https://localhost:8080/"
        },
        "id": "ZaJt0otECNlj",
        "outputId": "3ffe6420-3560-4842-df6c-7583a422fcb3"
      },
      "execution_count": 32,
      "outputs": [
        {
          "output_type": "stream",
          "name": "stdout",
          "text": [
            "Overwriting matmul.cu\n"
          ]
        }
      ]
    },
    {
      "cell_type": "code",
      "source": [
        "!nvcc -std=c++11 -arch=sm_75 matmul.cu -o matmul"
      ],
      "metadata": {
        "id": "GDKWV2yUCaoZ"
      },
      "execution_count": 33,
      "outputs": []
    },
    {
      "cell_type": "code",
      "source": [
        "!time ./matmul"
      ],
      "metadata": {
        "colab": {
          "base_uri": "https://localhost:8080/"
        },
        "id": "92gNhT0OCh1w",
        "outputId": "94113aa3-fd2b-4f39-fcc8-3a4900dc2d7f"
      },
      "execution_count": 34,
      "outputs": [
        {
          "output_type": "stream",
          "name": "stdout",
          "text": [
            "Success!\n",
            "\n",
            "real\t0m0.224s\n",
            "user\t0m0.052s\n",
            "sys\t0m0.157s\n"
          ]
        }
      ]
    },
    {
      "cell_type": "code",
      "source": [
        "%%writefile mulmat.cu\n",
        "#include <iostream>\n",
        "#include <vector>\n",
        "\n",
        "// CPU function for matrix multiplication\n",
        "void matmul(const std::vector<float>& A, const std::vector<float>& B, size_t m, size_t n, size_t k, std::vector<float>& output) {\n",
        "    for (size_t i = 0; i < m; ++i) {\n",
        "        for (size_t j = 0; j < k; ++j) {\n",
        "            float sum = 0.0f;\n",
        "            for (size_t l = 0; l < n; ++l) {\n",
        "                sum += A[i * n + l] * B[l * k + j];\n",
        "            }\n",
        "            output[i * k + j] = sum;\n",
        "        }\n",
        "    }\n",
        "}\n",
        "\n",
        "int main() {\n",
        "    size_t m = 1024;\n",
        "    size_t n = 1024;\n",
        "    size_t k = 1024;\n",
        "    std::vector<float> A(m * n);\n",
        "    std::vector<float> B(n * k);\n",
        "    std::vector<float> C(m * k);\n",
        "    for (size_t i = 0; i < m * n; ++i) {\n",
        "        A[i] = static_cast<float>(i);\n",
        "    }\n",
        "    for (size_t i = 0; i < n * k; ++i) {\n",
        "        B[i] = static_cast<float>(i);\n",
        "    }\n",
        "    matmul(A, B, m, n, k, C);\n",
        "//for (size_t i = 0; i < m; ++i) {\n",
        "//    for (size_t j = 0; j < k; ++j) {\n",
        "//        std::cout<<C[i]<<std::endl;\n",
        "//    }\n",
        "//}\n",
        "    return 0;\n",
        "}\n",
        "\n"
      ],
      "metadata": {
        "colab": {
          "base_uri": "https://localhost:8080/"
        },
        "id": "AtfzYLK9VLbJ",
        "outputId": "94da6244-c0d1-4d23-aa88-c00dfa1d7f38"
      },
      "execution_count": 38,
      "outputs": [
        {
          "output_type": "stream",
          "name": "stdout",
          "text": [
            "Overwriting mulmat.cu\n"
          ]
        }
      ]
    },
    {
      "cell_type": "code",
      "source": [
        "!nvcc -std=c++11 -arch=sm_75 mulmat.cu -o mulmat_c"
      ],
      "metadata": {
        "id": "4AdaYcmTV5D5"
      },
      "execution_count": 39,
      "outputs": []
    },
    {
      "cell_type": "code",
      "source": [
        "!time ./mulmat_c"
      ],
      "metadata": {
        "colab": {
          "base_uri": "https://localhost:8080/"
        },
        "id": "R-rPZlN8WNm5",
        "outputId": "531d8156-5636-4959-adfd-d69811efdb42"
      },
      "execution_count": 40,
      "outputs": [
        {
          "output_type": "stream",
          "name": "stdout",
          "text": [
            "\n",
            "real\t0m13.633s\n",
            "user\t0m13.546s\n",
            "sys\t0m0.016s\n"
          ]
        }
      ]
    }
  ]
}