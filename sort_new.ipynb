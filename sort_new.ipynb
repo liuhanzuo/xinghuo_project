{
  "nbformat": 4,
  "nbformat_minor": 0,
  "metadata": {
    "colab": {
      "provenance": [],
      "gpuType": "T4"
    },
    "kernelspec": {
      "name": "python3",
      "display_name": "Python 3"
    },
    "language_info": {
      "name": "python"
    },
    "accelerator": "GPU"
  },
  "cells": [
    {
      "cell_type": "code",
      "execution_count": 1,
      "metadata": {
        "colab": {
          "base_uri": "https://localhost:8080/"
        },
        "id": "bQAVCciVle6G",
        "outputId": "60da789a-044c-4f60-c53a-e0ebd5f6409b"
      },
      "outputs": [
        {
          "output_type": "stream",
          "name": "stdout",
          "text": [
            "Tue Jul 16 15:07:45 2024       \n",
            "+---------------------------------------------------------------------------------------+\n",
            "| NVIDIA-SMI 535.104.05             Driver Version: 535.104.05   CUDA Version: 12.2     |\n",
            "|-----------------------------------------+----------------------+----------------------+\n",
            "| GPU  Name                 Persistence-M | Bus-Id        Disp.A | Volatile Uncorr. ECC |\n",
            "| Fan  Temp   Perf          Pwr:Usage/Cap |         Memory-Usage | GPU-Util  Compute M. |\n",
            "|                                         |                      |               MIG M. |\n",
            "|=========================================+======================+======================|\n",
            "|   0  Tesla T4                       Off | 00000000:00:04.0 Off |                    0 |\n",
            "| N/A   42C    P8               9W /  70W |      0MiB / 15360MiB |      0%      Default |\n",
            "|                                         |                      |                  N/A |\n",
            "+-----------------------------------------+----------------------+----------------------+\n",
            "                                                                                         \n",
            "+---------------------------------------------------------------------------------------+\n",
            "| Processes:                                                                            |\n",
            "|  GPU   GI   CI        PID   Type   Process name                            GPU Memory |\n",
            "|        ID   ID                                                             Usage      |\n",
            "|=======================================================================================|\n",
            "|  No running processes found                                                           |\n",
            "+---------------------------------------------------------------------------------------+\n"
          ]
        }
      ],
      "source": [
        "!nvidia-smi"
      ]
    },
    {
      "cell_type": "code",
      "source": [
        "%%writefile sort.cu\n",
        "#include <cub/cub.cuh>\n",
        "\n",
        "\n",
        "void SORT(int* nums, size_t n, int* output) {\n",
        "    void* d_temp_storage = nullptr;\n",
        "    size_t temp_storage_bytes = 0;\n",
        "    cub::DeviceRadixSort::SortKeys(d_temp_storage, temp_storage_bytes, nums, output, n);\n",
        "    cudaMalloc(&d_temp_storage, temp_storage_bytes);\n",
        "    cub::DeviceRadixSort::SortKeys(d_temp_storage, temp_storage_bytes, nums, output, n);\n",
        "    cudaFree(d_temp_storage);\n",
        "}\n",
        "\n",
        "int main() {\n",
        "    int num_elements = 1024;\n",
        "    int* keys = new int[num_elements];\n",
        "    int* sorted_keys = new int[num_elements];\n",
        "    for (int i = 0; i < num_elements; ++i) {\n",
        "        keys[i] = num_elements - i;\n",
        "    }\n",
        "    int* d_keys;\n",
        "    int* d_sorted_keys;\n",
        "    cudaMalloc(&d_keys, num_elements * sizeof(int));\n",
        "    cudaMalloc(&d_sorted_keys, num_elements * sizeof(int));\n",
        "    cudaMemcpy(d_keys, keys, num_elements * sizeof(int), cudaMemcpyHostToDevice);\n",
        "    SORT(d_keys, num_elements, d_sorted_keys);\n",
        "    cudaMemcpy(sorted_keys, d_sorted_keys, num_elements * sizeof(int), cudaMemcpyDeviceToHost);\n",
        "    for (int i = 1; i < num_elements; i++) {\n",
        "        std::cout << sorted_keys[i] << \" \";\n",
        "    }\n",
        "    std::cout << std::endl;\n",
        "    delete[] keys;\n",
        "    delete[] sorted_keys;\n",
        "    return 0;\n",
        "}\n",
        "\n",
        "\n",
        "\n"
      ],
      "metadata": {
        "colab": {
          "base_uri": "https://localhost:8080/"
        },
        "id": "ijNrkH_AsHx6",
        "outputId": "e8bb34ac-c8b1-4d2f-b0a5-13a588df490a"
      },
      "execution_count": 4,
      "outputs": [
        {
          "output_type": "stream",
          "name": "stdout",
          "text": [
            "Overwriting sort.cu\n"
          ]
        }
      ]
    },
    {
      "cell_type": "code",
      "source": [
        "!nvcc -std=c++14 -arch=sm_75 sort.cu -o sort"
      ],
      "metadata": {
        "id": "HsICLYmrsKIK"
      },
      "execution_count": 5,
      "outputs": []
    },
    {
      "cell_type": "code",
      "source": [
        "!time ./sort"
      ],
      "metadata": {
        "colab": {
          "base_uri": "https://localhost:8080/"
        },
        "id": "WiVPD1fbsLzg",
        "outputId": "5c086489-2207-4ec8-edb5-a1f7de0d4438"
      },
      "execution_count": 6,
      "outputs": [
        {
          "output_type": "stream",
          "name": "stdout",
          "text": [
            "2 3 4 5 6 7 8 9 10 11 12 13 14 15 16 17 18 19 20 21 22 23 24 25 26 27 28 29 30 31 32 33 34 35 36 37 38 39 40 41 42 43 44 45 46 47 48 49 50 51 52 53 54 55 56 57 58 59 60 61 62 63 64 65 66 67 68 69 70 71 72 73 74 75 76 77 78 79 80 81 82 83 84 85 86 87 88 89 90 91 92 93 94 95 96 97 98 99 100 101 102 103 104 105 106 107 108 109 110 111 112 113 114 115 116 117 118 119 120 121 122 123 124 125 126 127 128 129 130 131 132 133 134 135 136 137 138 139 140 141 142 143 144 145 146 147 148 149 150 151 152 153 154 155 156 157 158 159 160 161 162 163 164 165 166 167 168 169 170 171 172 173 174 175 176 177 178 179 180 181 182 183 184 185 186 187 188 189 190 191 192 193 194 195 196 197 198 199 200 201 202 203 204 205 206 207 208 209 210 211 212 213 214 215 216 217 218 219 220 221 222 223 224 225 226 227 228 229 230 231 232 233 234 235 236 237 238 239 240 241 242 243 244 245 246 247 248 249 250 251 252 253 254 255 256 257 258 259 260 261 262 263 264 265 266 267 268 269 270 271 272 273 274 275 276 277 278 279 280 281 282 283 284 285 286 287 288 289 290 291 292 293 294 295 296 297 298 299 300 301 302 303 304 305 306 307 308 309 310 311 312 313 314 315 316 317 318 319 320 321 322 323 324 325 326 327 328 329 330 331 332 333 334 335 336 337 338 339 340 341 342 343 344 345 346 347 348 349 350 351 352 353 354 355 356 357 358 359 360 361 362 363 364 365 366 367 368 369 370 371 372 373 374 375 376 377 378 379 380 381 382 383 384 385 386 387 388 389 390 391 392 393 394 395 396 397 398 399 400 401 402 403 404 405 406 407 408 409 410 411 412 413 414 415 416 417 418 419 420 421 422 423 424 425 426 427 428 429 430 431 432 433 434 435 436 437 438 439 440 441 442 443 444 445 446 447 448 449 450 451 452 453 454 455 456 457 458 459 460 461 462 463 464 465 466 467 468 469 470 471 472 473 474 475 476 477 478 479 480 481 482 483 484 485 486 487 488 489 490 491 492 493 494 495 496 497 498 499 500 501 502 503 504 505 506 507 508 509 510 511 512 513 514 515 516 517 518 519 520 521 522 523 524 525 526 527 528 529 530 531 532 533 534 535 536 537 538 539 540 541 542 543 544 545 546 547 548 549 550 551 552 553 554 555 556 557 558 559 560 561 562 563 564 565 566 567 568 569 570 571 572 573 574 575 576 577 578 579 580 581 582 583 584 585 586 587 588 589 590 591 592 593 594 595 596 597 598 599 600 601 602 603 604 605 606 607 608 609 610 611 612 613 614 615 616 617 618 619 620 621 622 623 624 625 626 627 628 629 630 631 632 633 634 635 636 637 638 639 640 641 642 643 644 645 646 647 648 649 650 651 652 653 654 655 656 657 658 659 660 661 662 663 664 665 666 667 668 669 670 671 672 673 674 675 676 677 678 679 680 681 682 683 684 685 686 687 688 689 690 691 692 693 694 695 696 697 698 699 700 701 702 703 704 705 706 707 708 709 710 711 712 713 714 715 716 717 718 719 720 721 722 723 724 725 726 727 728 729 730 731 732 733 734 735 736 737 738 739 740 741 742 743 744 745 746 747 748 749 750 751 752 753 754 755 756 757 758 759 760 761 762 763 764 765 766 767 768 769 770 771 772 773 774 775 776 777 778 779 780 781 782 783 784 785 786 787 788 789 790 791 792 793 794 795 796 797 798 799 800 801 802 803 804 805 806 807 808 809 810 811 812 813 814 815 816 817 818 819 820 821 822 823 824 825 826 827 828 829 830 831 832 833 834 835 836 837 838 839 840 841 842 843 844 845 846 847 848 849 850 851 852 853 854 855 856 857 858 859 860 861 862 863 864 865 866 867 868 869 870 871 872 873 874 875 876 877 878 879 880 881 882 883 884 885 886 887 888 889 890 891 892 893 894 895 896 897 898 899 900 901 902 903 904 905 906 907 908 909 910 911 912 913 914 915 916 917 918 919 920 921 922 923 924 925 926 927 928 929 930 931 932 933 934 935 936 937 938 939 940 941 942 943 944 945 946 947 948 949 950 951 952 953 954 955 956 957 958 959 960 961 962 963 964 965 966 967 968 969 970 971 972 973 974 975 976 977 978 979 980 981 982 983 984 985 986 987 988 989 990 991 992 993 994 995 996 997 998 999 1000 1001 1002 1003 1004 1005 1006 1007 1008 1009 1010 1011 1012 1013 1014 1015 1016 1017 1018 1019 1020 1021 1022 1023 1024 \n",
            "\n",
            "real\t0m0.281s\n",
            "user\t0m0.009s\n",
            "sys\t0m0.216s\n"
          ]
        }
      ]
    },
    {
      "cell_type": "code",
      "source": [
        "%%writefile mergesort.cu\n",
        "#include <cuda_runtime.h>\n",
        "#include <cmath>\n",
        "#include <cassert>\n",
        "#include <random>\n",
        "#include <iostream>\n",
        "using namespace std;\n",
        "__global__ void f(int *a,int *tmp,int n)\n",
        "{\n",
        "    int left=blockIdx.x*n;\n",
        "    int right=left+n-1;\n",
        "    int mid=(left+right)/2;\n",
        "    int i=left,j=mid+1,k=left;\n",
        "    while((i<=mid)&&(j<=right))\n",
        "    {\n",
        "        if(a[i]<=a[j])\n",
        "        {\n",
        "            tmp[k]=a[i];\n",
        "            ++i;++k;\n",
        "        }\n",
        "        else\n",
        "        {\n",
        "            tmp[k]=a[j];\n",
        "            ++j;++k;\n",
        "        }\n",
        "    }\n",
        "    if(i>mid)\n",
        "    {\n",
        "        for(;j<=right;++j,++k)\n",
        "        tmp[k]=a[j];\n",
        "    }\n",
        "    else\n",
        "    {\n",
        "        for(;i<=mid;++i,++k)\n",
        "        tmp[k]=a[i];\n",
        "    }\n",
        "    for(k=left;k<=right;++k) a[k]=tmp[k];\n",
        "}\n",
        "int main(){\n",
        "    int n = 1<<20;\n",
        "    int *a,*tmp,*deva,*ans;\n",
        "    mt19937 rnd(0x98213);\n",
        "    a=(int*)malloc(n*sizeof(int));\n",
        "    ans=(int*)malloc(n*sizeof(int));\n",
        "    for(int i=0;i<n;i++) a[i]=rnd()%1000000+1;\n",
        "    cudaMalloc((void**)&deva,n*sizeof(int));\n",
        "    cudaMalloc((void**)&tmp,n*sizeof(int));\n",
        "    cudaMemcpy(deva,a,n*sizeof(int), cudaMemcpyHostToDevice);\n",
        "    for(int i=2;i<=n;i<<=1) f<<<n/i,1>>>(deva,tmp,i);\n",
        "    cudaMemcpy(ans,deva,n*sizeof(int),cudaMemcpyDeviceToHost);\n",
        "    for(int i=0;i<n-1;i++) assert(ans[i]<=ans[i+1]);\n",
        "    cudaFree(deva);\n",
        "    cudaFree(tmp);\n",
        "    free(a);\n",
        "    free(ans);\n",
        "    return 0;\n",
        "}"
      ],
      "metadata": {
        "colab": {
          "base_uri": "https://localhost:8080/"
        },
        "id": "UEmMvE3Sljse",
        "outputId": "e586088f-020c-4f60-efd9-818fdb9c522c"
      },
      "execution_count": 7,
      "outputs": [
        {
          "output_type": "stream",
          "name": "stdout",
          "text": [
            "Writing mergesort.cu\n"
          ]
        }
      ]
    },
    {
      "cell_type": "code",
      "source": [
        "!nvcc -std=c++14 -arch=sm_75 mergesort.cu -o mergesort"
      ],
      "metadata": {
        "id": "7We-2SWprPbW"
      },
      "execution_count": 8,
      "outputs": []
    },
    {
      "cell_type": "code",
      "source": [
        "!time ./mergesort"
      ],
      "metadata": {
        "colab": {
          "base_uri": "https://localhost:8080/"
        },
        "id": "2eZBs0EirP0Q",
        "outputId": "18e840c7-4038-49f7-87fd-28b5678a9ef9"
      },
      "execution_count": 9,
      "outputs": [
        {
          "output_type": "stream",
          "name": "stdout",
          "text": [
            "\n",
            "real\t0m0.669s\n",
            "user\t0m0.453s\n",
            "sys\t0m0.207s\n"
          ]
        }
      ]
    },
    {
      "cell_type": "code",
      "source": [
        "%%writefile new_sort.cu\n",
        "#include<iostream>\n",
        "#include<stdio.h>\n",
        "#include<stdlib.h>\n",
        "#define NThreads 1024\n",
        "#define NBlocks 1\n",
        "\n",
        "#define Num NThreads*NBlocks\n",
        "__device__ void swap(int &a, int &b){\n",
        "    int t = a;\n",
        "    a = b;\n",
        "    b = t;\n",
        "}\n",
        "__global__ void bitonic_sort(int* arr){\n",
        "    extern __shared__ int shared_arr[];\n",
        "    const unsigned int tid = blockIdx.x * blockDim.x + threadIdx.x;\n",
        "    //const unsigned int tid = threadIdx.x;\n",
        "    shared_arr[tid] = arr[tid];\n",
        "    __syncthreads();\n",
        "\n",
        "    //for(int i=2; i<=blociDim.x; i<<=1){\n",
        "    for(unsigned int i=2; i<=Num; i<<=1){\n",
        "        for(unsigned int j=i>>1; j>0; j>>=1){\n",
        "            unsigned int tid_comp = tid ^ j;\n",
        "            if(tid_comp > tid){\n",
        "                if((tid & i)==0){ //ascending\n",
        "                    if(shared_arr[tid]>shared_arr[tid_comp]){\n",
        "                        swap(shared_arr[tid],shared_arr[tid_comp]);\n",
        "                    }\n",
        "                }\n",
        "                else{ //desending\n",
        "                    if(shared_arr[tid]<shared_arr[tid_comp]){\n",
        "                        swap(shared_arr[tid],shared_arr[tid_comp]);\n",
        "                    }\n",
        "                }\n",
        "            }\n",
        "            __syncthreads();\n",
        "        }\n",
        "    }\n",
        "    arr[tid] = shared_arr[tid];\n",
        "}\n",
        "\n",
        "int main(int argc, char* argv[]){\n",
        "    int* arr= (int*) malloc(Num*sizeof(int));\n",
        "    for(int i=0;i<Num;i++){\n",
        "        arr[i] = rand() % 1000;\n",
        "    }\n",
        "    int* ptr;\n",
        "    cudaMalloc((void**)&ptr,Num*sizeof(int));\n",
        "    cudaMemcpy(ptr,arr,Num*sizeof(int),cudaMemcpyHostToDevice);\n",
        "    for(int i=0;i<Num;i++){\n",
        "        printf(\"%d\\t\",arr[i]);\n",
        "    }\n",
        "    printf(\"\\n\");\n",
        "    dim3 blocks(NBlocks,1);\n",
        "    dim3 threads(NThreads,1);\n",
        "    bitonic_sort<<<blocks,threads,Num*sizeof(int)>>>(ptr);\n",
        "    //bitonic_sort<<<1,Num,Num*sizeof(int)>>>(ptr);\n",
        "    cudaMemcpy(arr,ptr,Num*sizeof(int),cudaMemcpyDeviceToHost);\n",
        "    for(int i=0;i<Num;i++){\n",
        "        printf(\"%d\\t\",arr[i]);\n",
        "    }\n",
        "    printf(\"\\n\");\n",
        "\n",
        "    cudaFree(ptr);\n",
        "    return 0;\n",
        "}\n"
      ],
      "metadata": {
        "colab": {
          "base_uri": "https://localhost:8080/"
        },
        "id": "oz_mIaRmHC3s",
        "outputId": "dc771dc8-653a-49e0-dd5a-aa8e34d55472"
      },
      "execution_count": 32,
      "outputs": [
        {
          "output_type": "stream",
          "name": "stdout",
          "text": [
            "Overwriting new_sort.cu\n"
          ]
        }
      ]
    },
    {
      "cell_type": "code",
      "source": [
        "!nvcc -std=c++14 -arch=sm_75 new_sort.cu -o newsort"
      ],
      "metadata": {
        "id": "lENScGgbIGoC"
      },
      "execution_count": 33,
      "outputs": []
    },
    {
      "cell_type": "code",
      "source": [
        "!time ./newsort"
      ],
      "metadata": {
        "colab": {
          "base_uri": "https://localhost:8080/"
        },
        "id": "_UDhFD0DIJKq",
        "outputId": "5d920e23-5318-4014-dac0-0b2f710cf9e5"
      },
      "execution_count": 34,
      "outputs": [
        {
          "output_type": "stream",
          "name": "stdout",
          "text": [
            "383\t886\t777\t915\t793\t335\t386\t492\t649\t421\t362\t27\t690\t59\t763\t926\t540\t426\t172\t736\t211\t368\t567\t429\t782\t530\t862\t123\t67\t135\t929\t802\t22\t58\t69\t167\t393\t456\t11\t42\t229\t373\t421\t919\t784\t537\t198\t324\t315\t370\t413\t526\t91\t980\t956\t873\t862\t170\t996\t281\t305\t925\t84\t327\t336\t505\t846\t729\t313\t857\t124\t895\t582\t545\t814\t367\t434\t364\t43\t750\t87\t808\t276\t178\t788\t584\t403\t651\t754\t399\t932\t60\t676\t368\t739\t12\t226\t586\t94\t539\t795\t570\t434\t378\t467\t601\t97\t902\t317\t492\t652\t756\t301\t280\t286\t441\t865\t689\t444\t619\t440\t729\t31\t117\t97\t771\t481\t675\t709\t927\t567\t856\t497\t353\t586\t965\t306\t683\t219\t624\t528\t871\t732\t829\t503\t19\t270\t368\t708\t715\t340\t149\t796\t723\t618\t245\t846\t451\t921\t555\t379\t488\t764\t228\t841\t350\t193\t500\t34\t764\t124\t914\t987\t856\t743\t491\t227\t365\t859\t936\t432\t551\t437\t228\t275\t407\t474\t121\t858\t395\t29\t237\t235\t793\t818\t428\t143\t11\t928\t529\t776\t404\t443\t763\t613\t538\t606\t840\t904\t818\t128\t688\t369\t917\t917\t996\t324\t743\t470\t183\t490\t499\t772\t725\t644\t590\t505\t139\t954\t786\t669\t82\t542\t464\t197\t507\t355\t804\t348\t611\t622\t828\t299\t343\t746\t568\t340\t422\t311\t810\t605\t801\t661\t730\t878\t305\t320\t736\t444\t626\t522\t465\t708\t416\t282\t258\t924\t637\t62\t624\t600\t36\t452\t899\t379\t550\t468\t71\t973\t131\t881\t930\t933\t894\t660\t163\t199\t981\t899\t996\t959\t773\t813\t668\t190\t95\t926\t466\t84\t340\t90\t684\t376\t542\t936\t107\t445\t756\t179\t418\t887\t412\t348\t172\t659\t9\t336\t210\t342\t587\t206\t301\t713\t372\t321\t255\t819\t599\t721\t904\t939\t811\t940\t667\t705\t228\t127\t150\t984\t658\t920\t224\t422\t269\t396\t81\t630\t84\t292\t972\t672\t850\t625\t385\t222\t299\t640\t42\t898\t713\t298\t190\t524\t590\t209\t581\t819\t336\t732\t155\t994\t4\t379\t769\t273\t776\t850\t255\t860\t142\t579\t884\t993\t205\t621\t567\t504\t613\t961\t754\t326\t259\t944\t202\t202\t506\t784\t21\t842\t868\t528\t189\t872\t908\t958\t498\t36\t808\t753\t248\t303\t333\t133\t648\t890\t754\t567\t746\t368\t529\t500\t46\t788\t797\t249\t990\t303\t33\t363\t497\t253\t892\t686\t125\t152\t996\t975\t188\t157\t729\t436\t460\t414\t921\t460\t304\t28\t27\t50\t748\t556\t902\t794\t697\t699\t43\t39\t2\t428\t403\t500\t681\t647\t538\t159\t151\t535\t134\t339\t692\t215\t127\t504\t629\t49\t964\t285\t429\t343\t335\t177\t900\t238\t971\t949\t289\t367\t988\t292\t795\t743\t144\t829\t390\t682\t340\t541\t569\t826\t232\t261\t42\t360\t117\t23\t761\t81\t309\t190\t425\t996\t367\t677\t234\t690\t626\t524\t57\t614\t168\t205\t358\t312\t386\t100\t346\t726\t994\t916\t552\t578\t529\t946\t290\t647\t970\t51\t80\t631\t593\t857\t627\t312\t886\t214\t355\t512\t90\t412\t479\t610\t969\t189\t274\t355\t641\t620\t433\t987\t888\t338\t566\t770\t284\t856\t417\t606\t260\t849\t237\t205\t59\t217\t518\t945\t783\t873\t458\t873\t637\t289\t483\t607\t478\t757\t314\t471\t729\t100\t459\t618\t438\t25\t388\t74\t233\t157\t681\t493\t358\t270\t699\t417\t839\t569\t363\t622\t794\t173\t847\t431\t462\t682\t390\t292\t791\t57\t115\t521\t157\t574\t491\t947\t951\t231\t21\t537\t740\t54\t30\t98\t325\t81\t516\t516\t2\t231\t139\t796\t404\t338\t580\t218\t21\t970\t862\t812\t379\t977\t685\t536\t904\t176\t483\t207\t759\t857\t744\t499\t911\t127\t950\t236\t560\t818\t105\t563\t49\t244\t711\t805\t934\t291\t375\t955\t614\t589\t768\t993\t918\t805\t882\t822\t982\t717\t30\t93\t574\t126\t593\t486\t253\t543\t74\t814\t713\t179\t377\t762\t775\t88\t919\t710\t732\t294\t17\t346\t235\t137\t691\t153\t943\t573\t328\t925\t291\t710\t18\t217\t836\t963\t55\t90\t858\t130\t904\t571\t661\t633\t685\t789\t73\t604\t851\t805\t250\t868\t503\t485\t6\t195\t639\t949\t120\t967\t226\t763\t677\t596\t981\t865\t560\t36\t955\t770\t518\t211\t342\t532\t196\t379\t321\t270\t984\t172\t427\t234\t40\t283\t72\t398\t830\t63\t347\t950\t30\t573\t714\t59\t522\t47\t924\t82\t435\t232\t204\t954\t443\t898\t486\t640\t278\t159\t262\t262\t683\t41\t848\t723\t324\t272\t122\t154\t335\t821\t457\t365\t747\t171\t776\t269\t218\t701\t703\t653\t933\t907\t959\t728\t806\t797\t720\t84\t308\t334\t698\t991\t376\t898\t715\t52\t171\t189\t559\t506\t10\t16\t224\t109\t539\t0\t378\t109\t53\t81\t114\t338\t989\t426\t67\t147\t223\t787\t231\t532\t122\t281\t875\t850\t179\t590\t254\t350\t131\t813\t857\t494\t181\t81\t603\t720\t433\t982\t181\t487\t415\t296\t825\t404\t722\t892\t551\t297\t32\t134\t181\t506\t415\t57\t708\t595\t999\t962\t297\t483\t776\t154\t977\t309\t587\t932\t382\t21\t266\t563\t860\t682\t211\t685\t86\t285\t930\t990\t583\t314\t476\t116\t820\t892\t525\t528\t839\t525\t490\t136\t360\t618\t643\t337\t928\t582\t621\t310\t955\t888\t225\t815\t570\t437\t853\t8\t722\t783\t350\t657\t97\t827\t126\t269\t71\t651\t149\t910\t528\t639\t398\t888\t610\t393\t577\t890\t976\t199\t552\t931\t87\t777\t99\t657\t566\t952\t17\t641\t735\t368\t298\t184\t195\t776\t805\t266\t428\t954\t528\t308\t593\t278\t197\t555\t672\t774\t445\t0\t325\t997\t283\t412\t127\t382\t421\t693\t334\t439\t334\t421\t159\t985\t957\t354\t761\t762\t972\t541\t716\t852\t850\t662\t482\t399\t217\t154\t173\t15\t506\t\n",
            "0\t0\t2\t2\t4\t6\t8\t9\t10\t11\t11\t12\t15\t16\t17\t17\t18\t19\t21\t21\t21\t21\t22\t23\t25\t27\t27\t28\t29\t30\t30\t30\t31\t32\t33\t34\t36\t36\t36\t39\t40\t41\t42\t42\t42\t43\t43\t46\t47\t49\t49\t50\t51\t52\t53\t54\t55\t57\t57\t57\t58\t59\t59\t59\t60\t62\t63\t67\t67\t69\t71\t71\t72\t73\t74\t74\t80\t81\t81\t81\t81\t81\t82\t82\t84\t84\t84\t84\t86\t87\t87\t88\t90\t90\t90\t91\t93\t94\t95\t97\t97\t97\t98\t99\t100\t100\t105\t107\t109\t109\t114\t115\t116\t117\t117\t120\t121\t122\t122\t123\t124\t124\t125\t126\t126\t127\t127\t127\t127\t128\t130\t131\t131\t133\t134\t134\t135\t136\t137\t139\t139\t142\t143\t144\t147\t149\t149\t150\t151\t152\t153\t154\t154\t154\t155\t157\t157\t157\t159\t159\t159\t163\t167\t168\t170\t171\t171\t172\t172\t172\t173\t173\t176\t177\t178\t179\t179\t179\t181\t181\t181\t183\t184\t188\t189\t189\t189\t190\t190\t190\t193\t195\t195\t196\t197\t197\t198\t199\t199\t202\t202\t204\t205\t205\t205\t206\t207\t209\t210\t211\t211\t211\t214\t215\t217\t217\t217\t218\t218\t219\t222\t223\t224\t224\t225\t226\t226\t227\t228\t228\t228\t229\t231\t231\t231\t232\t232\t233\t234\t234\t235\t235\t236\t237\t237\t238\t244\t245\t248\t249\t250\t253\t253\t254\t255\t255\t258\t259\t260\t261\t262\t262\t266\t266\t269\t269\t269\t270\t270\t270\t272\t273\t274\t275\t276\t278\t278\t280\t281\t281\t282\t283\t283\t284\t285\t285\t286\t289\t289\t290\t291\t291\t292\t292\t292\t294\t296\t297\t297\t298\t298\t299\t299\t301\t301\t303\t303\t304\t305\t305\t306\t308\t308\t309\t309\t310\t311\t312\t312\t313\t314\t314\t315\t317\t320\t321\t321\t324\t324\t324\t325\t325\t326\t327\t328\t333\t334\t334\t334\t335\t335\t335\t336\t336\t336\t337\t338\t338\t338\t339\t340\t340\t340\t340\t342\t342\t343\t343\t346\t346\t347\t348\t348\t350\t350\t350\t353\t354\t355\t355\t355\t358\t358\t360\t360\t362\t363\t363\t364\t365\t365\t367\t367\t367\t368\t368\t368\t368\t368\t369\t370\t372\t373\t375\t376\t376\t377\t378\t378\t379\t379\t379\t379\t379\t382\t382\t383\t385\t386\t386\t388\t390\t390\t393\t393\t395\t396\t398\t398\t399\t399\t403\t403\t404\t404\t404\t407\t412\t412\t412\t413\t414\t415\t415\t416\t417\t417\t418\t421\t421\t421\t421\t422\t422\t425\t426\t426\t427\t428\t428\t428\t429\t429\t431\t432\t433\t433\t434\t434\t435\t436\t437\t437\t438\t439\t440\t441\t443\t443\t444\t444\t445\t445\t451\t452\t456\t457\t458\t459\t460\t460\t462\t464\t465\t466\t467\t468\t470\t471\t474\t476\t478\t479\t481\t482\t483\t483\t483\t485\t486\t486\t487\t488\t490\t490\t491\t491\t492\t492\t493\t494\t497\t497\t498\t499\t499\t500\t500\t500\t503\t503\t504\t504\t505\t505\t506\t506\t506\t506\t507\t512\t516\t516\t518\t518\t521\t522\t522\t524\t524\t525\t525\t526\t528\t528\t528\t528\t528\t529\t529\t529\t530\t532\t532\t535\t536\t537\t537\t538\t538\t539\t539\t540\t541\t541\t542\t542\t543\t545\t550\t551\t551\t552\t552\t555\t555\t556\t559\t560\t560\t563\t563\t566\t566\t567\t567\t567\t567\t568\t569\t569\t570\t570\t571\t573\t573\t574\t574\t577\t578\t579\t580\t581\t582\t582\t583\t584\t586\t586\t587\t587\t589\t590\t590\t590\t593\t593\t593\t595\t596\t599\t600\t601\t603\t604\t605\t606\t606\t607\t610\t610\t611\t613\t613\t614\t614\t618\t618\t618\t619\t620\t621\t621\t622\t622\t624\t624\t625\t626\t626\t627\t629\t630\t631\t633\t637\t637\t639\t639\t640\t640\t641\t641\t643\t644\t647\t647\t648\t649\t651\t651\t652\t653\t657\t657\t658\t659\t660\t661\t661\t662\t667\t668\t669\t672\t672\t675\t676\t677\t677\t681\t681\t682\t682\t682\t683\t683\t684\t685\t685\t685\t686\t688\t689\t690\t690\t691\t692\t693\t697\t698\t699\t699\t701\t703\t705\t708\t708\t708\t709\t710\t710\t711\t713\t713\t713\t714\t715\t715\t716\t717\t720\t720\t721\t722\t722\t723\t723\t725\t726\t728\t729\t729\t729\t729\t730\t732\t732\t732\t735\t736\t736\t739\t740\t743\t743\t743\t744\t746\t746\t747\t748\t750\t753\t754\t754\t754\t756\t756\t757\t759\t761\t761\t762\t762\t763\t763\t763\t764\t764\t768\t769\t770\t770\t771\t772\t773\t774\t775\t776\t776\t776\t776\t776\t777\t777\t782\t783\t783\t784\t784\t786\t787\t788\t788\t789\t791\t793\t793\t794\t794\t795\t795\t796\t796\t797\t797\t801\t802\t804\t805\t805\t805\t805\t806\t808\t808\t810\t811\t812\t813\t813\t814\t814\t815\t818\t818\t818\t819\t819\t820\t821\t822\t825\t826\t827\t828\t829\t829\t830\t836\t839\t839\t840\t841\t842\t846\t846\t847\t848\t849\t850\t850\t850\t850\t851\t852\t853\t856\t856\t856\t857\t857\t857\t857\t858\t858\t859\t860\t860\t862\t862\t862\t865\t865\t868\t868\t871\t872\t873\t873\t873\t875\t878\t881\t882\t884\t886\t886\t887\t888\t888\t888\t890\t890\t892\t892\t892\t894\t895\t898\t898\t898\t899\t899\t900\t902\t902\t904\t904\t904\t904\t907\t908\t910\t911\t914\t915\t916\t917\t917\t918\t919\t919\t920\t921\t921\t924\t924\t925\t925\t926\t926\t927\t928\t928\t929\t930\t930\t931\t932\t932\t933\t933\t934\t936\t936\t939\t940\t943\t944\t945\t946\t947\t949\t949\t950\t950\t951\t952\t954\t954\t954\t955\t955\t955\t956\t957\t958\t959\t959\t961\t962\t963\t964\t965\t967\t969\t970\t970\t971\t972\t972\t973\t975\t976\t977\t977\t980\t981\t981\t982\t982\t984\t984\t985\t987\t987\t988\t989\t990\t990\t991\t993\t993\t994\t994\t996\t996\t996\t996\t996\t997\t999\t\n",
            "\n",
            "real\t0m0.229s\n",
            "user\t0m0.013s\n",
            "sys\t0m0.211s\n"
          ]
        }
      ]
    }
  ]
}